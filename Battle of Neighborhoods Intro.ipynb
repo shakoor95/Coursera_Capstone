{
 "cells": [
  {
   "cell_type": "markdown",
   "metadata": {},
   "source": [
    "# Battle of Neighborhoods-Coursera Capstone Project\n",
    "\n",
    "As This is first submittion to my project that expects me to cover Introduction/Business Problem of my project.As well as background description.\n",
    "\n"
   ]
  },
  {
   "cell_type": "markdown",
   "metadata": {},
   "source": [
    "# Introduction\n",
    "\n",
    "This project analyzes neighborhoods of New York City in respects of all major venues of neighborhoods in any borough and rental analysis. New York City is very diverse and multicultural city. NYC has been distributed over a land of 302.6 square miles as per wiki.\n",
    "This city consists of 5 boroughs as:\n",
    "Brooklyn\n",
    "Manhattan\n",
    "Queens\n",
    "Staten Island\n",
    "Bronx\n",
    "\n",
    "New York City is also the most densely populated major city in the United States. Located at the southern tip of the state of New York, the city is the center of the New York metropolitan area, the largest metropolitan area in the world by urban landmass and one of the world's most populous megacities, with an estimated 20,320,876 people in its 2017 Metropolitan Statistical Area and 23,876,155 residents in its Combined Statistical Area. A global power city, New York City has been described as the cultural, financial, and media capital of the world, and exerts a significant impact upon commerce, entertainment, research, technology, education, politics, tourism, art, fashion, and sports. The city's fast pace has inspired the term New York minute. Home to the headquarters of the United Nations, New York is an important center for international diplomacy.\n",
    "\n",
    "This project surely proves very helpful for any visitor or employee or student who comes to this great city with intention to live here."
   ]
  },
  {
   "cell_type": "markdown",
   "metadata": {},
   "source": [
    "# Objective\n",
    "\n",
    "Objective of this project is that anyone who is visiting NYC will get deep insight of new york city and he/she will get intouch with it's neighborhoods and rents at most of places. Moreover, will get fimilar with venues that we got using Foursquare."
   ]
  },
  {
   "cell_type": "markdown",
   "metadata": {},
   "source": [
    "# Discussion\n",
    "\n",
    "Let’s discuss the above mentioned problem. As New York city have 5 boroughs and each borough have its own neighborhoods. So, let’s say John got a job or he is a student that’s why he is planning to move New York city. Before coming here, he should have rough idea about the rents going in the city. That’s why we have to scrap the data from different sites to get approx. average rents for various neighborhoods. Once he’ll get familiar with neighborhoods and their rents, then it’s time for him to decide which neighborhood will better match with his everyday needs. For this reason, we have to introduce data for NYC and have to use Foursquare API to get venues. Let’s say we’ll explore Brooklyn,NY in this problem. So we should have longitude/latitude of Brooklyn. Then we have to develop data sets of every neighborhood. Then we have to find out each neighborhood have which restaurant, café, coffee shops, gyms different cuisines as NYC is multicultural city. \n",
    "Before getting started we’ll need these libraries such as folium, pandas, numpy, geopy, json and matplotlib etc.\n",
    "\n",
    "\n",
    "** I have uploaded .csv files and json files that we’ll use in this project. \n",
    "\n",
    "Brooklyn (https://github.com/shakoor95/Coursera_Capstone/blob/master/brooklyn.csv)\n",
    "Manhattan(https://github.com/shakoor95/Coursera_Capstone/blob/master/manhattan.csv)\n",
    "Bronx(https://github.com/shakoor95/Coursera_Capstone/blob/master/bronx.csv)\n",
    "\n",
    "Anyone can get access to this dataset at NYU site for New York city .json file : https://geo.nyu.edu/catalog/nyu_2451_34572"
   ]
  },
  {
   "cell_type": "code",
   "execution_count": null,
   "metadata": {},
   "outputs": [],
   "source": []
  }
 ],
 "metadata": {
  "kernelspec": {
   "display_name": "Python 3",
   "language": "python",
   "name": "python3"
  },
  "language_info": {
   "codemirror_mode": {
    "name": "ipython",
    "version": 3
   },
   "file_extension": ".py",
   "mimetype": "text/x-python",
   "name": "python",
   "nbconvert_exporter": "python",
   "pygments_lexer": "ipython3",
   "version": "3.7.1"
  }
 },
 "nbformat": 4,
 "nbformat_minor": 2
}
