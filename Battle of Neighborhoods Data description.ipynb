{
 "cells": [
  {
   "cell_type": "markdown",
   "metadata": {},
   "source": [
    "# Data Description\n",
    "In this project we have used the following data:\n",
    "\n",
    "Gathered data for following boroughs of New York city using beautifulsoap and stored thier respective .csv files at the following websites.\n",
    "\n",
    "Brooklyn (https://github.com/shakoor95/Coursera_Capstone/blob/master/brooklyn.csv)\n",
    "\n",
    "Manhattan(https://github.com/shakoor95/Coursera_Capstone/blob/master/manhattan.csv)\n",
    "\n",
    "Bronx(https://github.com/shakoor95/Coursera_Capstone/blob/master/bronx.csv)\n",
    "\n",
    "\n",
    "If anyone is intersted in visiting rental data website he/she can visit to get data of cities all over the United States:\n",
    "\n",
    "https://www.rentcafe.com/average-rent-market-trends/us/ny/brooklyn/\n",
    "https://www.rentcafe.com/average-rent-market-trends/us/ny/manhattan/\n",
    "https://www.rentcafe.com/average-rent-market-trends/us/ny/bronx/\n",
    "\n",
    "But one should have to use beautifulsoap or other technique to get data from this webpage.\n",
    "\n",
    "After getting an insight of average rental data of city, now we have to call the data for New York city have to explore.\n",
    "\n",
    "NYU students have created .json file for New York city data anyone can download it or call it in python plateform to do analysis.\n",
    "\n",
    "By using this command you can access this data as: !wget -q -O 'newyork_data.json' https://ibm.box.com/shared/static/fbpwbovar7lf8p5sgddm06cgipa2rxpe.json\n",
    "\n",
    "Anyone can get access to this dataset at NYU site as : https://geo.nyu.edu/catalog/nyu_2451_34572\n",
    "\n",
    "I have also uploaded this site in my github at : https://github.com/shakoor95/Coursera_Capstone/blob/master/newyork_data.json\n",
    "\n",
    "So, this is our raw data. We have to use Foursqure API to get venues of the neighborhoods of New York city, that you can have a look by watching final coding. \n",
    "The libraries that we will use in this project are as below:\n",
    "\n",
    "import folium\n",
    "import pandas as pd\n",
    "pd.set_option('display.max_columns', None)\n",
    "pd.set_option('display.max_rows', None)\n",
    "import numpy as np\n",
    "import requests\n",
    "from geopy.geocoders import Nominatim\n",
    "import json\n",
    "\n",
    "\n",
    "from pandas.io.json import json_normalize \n",
    "\n",
    "import matplotlib.cm as cm\n",
    "import matplotlib.colors as colors\n",
    "\n",
    "\n",
    "from sklearn.cluster import KMeans\n",
    "\n",
    "\n",
    "\n",
    "These are the libraries that we are going to use create datasets that we really needed.\n",
    "\n",
    "All methodology and code execution is shared in the final project file at:\n",
    "\n",
    "\n",
    "https://github.com/shakoor95/Coursera_Capstone/blob/master/Battle%20of%20Neighborhoods%20project%20report.ipynb\n",
    "\n",
    "\n"
   ]
  },
  {
   "cell_type": "code",
   "execution_count": null,
   "metadata": {},
   "outputs": [],
   "source": []
  }
 ],
 "metadata": {
  "kernelspec": {
   "display_name": "Python 3",
   "language": "python",
   "name": "python3"
  },
  "language_info": {
   "codemirror_mode": {
    "name": "ipython",
    "version": 3
   },
   "file_extension": ".py",
   "mimetype": "text/x-python",
   "name": "python",
   "nbconvert_exporter": "python",
   "pygments_lexer": "ipython3",
   "version": "3.7.1"
  }
 },
 "nbformat": 4,
 "nbformat_minor": 2
}
